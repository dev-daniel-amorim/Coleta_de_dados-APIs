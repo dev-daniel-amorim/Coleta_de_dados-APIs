{
 "cells": [
  {
   "cell_type": "markdown",
   "id": "08554184",
   "metadata": {},
   "source": [
    "# Python e API\n",
    "\n",
    "O que é API?<br>\n",
    "API é um conjunto de código para usar em um serviço/aplicativo, disponibilizado por aplicações de terceiros para promover integração de forma facilitada com seu código. Essas informações recbidas por APIs geralmente vem em formato JSON, que é uma espécio de dicionário que precisamos tratar para obter as informações desejadas.\n",
    "\n",
    "- https://docs.awesomeapi.com.br/api-de-moedas\n"
   ]
  },
  {
   "cell_type": "markdown",
   "id": "8d8847e9",
   "metadata": {},
   "source": [
    "# Bibliotecas necessárias"
   ]
  },
  {
   "cell_type": "code",
   "execution_count": 1,
   "id": "68df9f84",
   "metadata": {},
   "outputs": [],
   "source": [
    "import requests\n",
    "import json"
   ]
  },
  {
   "cell_type": "markdown",
   "id": "e533bc7d",
   "metadata": {},
   "source": [
    "# Coleta de dados"
   ]
  },
  {
   "cell_type": "code",
   "execution_count": 4,
   "id": "84963ba7",
   "metadata": {},
   "outputs": [
    {
     "name": "stdout",
     "output_type": "stream",
     "text": [
      "{'USD': {'code': 'USD', 'codein': 'BRL', 'name': 'Dólar Americano/Real Brasileiro', 'high': '5.3249', 'low': '5.1769', 'varBid': '-0.0883', 'pctChange': '-1.67', 'bid': '5.2039', 'ask': '5.2055', 'timestamp': '1671561034', 'create_date': '2022-12-20 15:30:34'}, 'USDT': {'code': 'USD', 'codein': 'BRLT', 'name': 'Dólar Americano/Real Brasileiro Turismo', 'high': '5.35', 'low': '5.205', 'varBid': '-0.105', 'pctChange': '-1.97', 'bid': '5.07', 'ask': '5.38', 'timestamp': '1671559860', 'create_date': '2022-12-20 15:11:00'}, 'CAD': {'code': 'CAD', 'codein': 'BRL', 'name': 'Dólar Canadense/Real Brasileiro', 'high': '3.9074', 'low': '3.801', 'varBid': '-0.0572', 'pctChange': '-1.47', 'bid': '3.8211', 'ask': '3.8233', 'timestamp': '1671561032', 'create_date': '2022-12-20 15:30:32'}, 'GBP': {'code': 'GBP', 'codein': 'BRL', 'name': 'Libra Esterlina/Real Brasileiro', 'high': '6.47', 'low': '6.2847', 'varBid': '-0.1056', 'pctChange': '-1.64', 'bid': '6.3214', 'ask': '6.3252', 'timestamp': '1671561035', 'create_date': '2022-12-20 15:30:35'}, 'ARS': {'code': 'ARS', 'codein': 'BRL', 'name': 'Peso Argentino/Real Brasileiro', 'high': '0.0307', 'low': '0.0298', 'varBid': '-0.0006', 'pctChange': '-1.97', 'bid': '0.0299', 'ask': '0.0299', 'timestamp': '1671561032', 'create_date': '2022-12-20 15:30:32'}, 'BTC': {'code': 'BTC', 'codein': 'BRL', 'name': 'Bitcoin/Real Brasileiro', 'high': '89.738', 'low': '86.923', 'varBid': '-207', 'pctChange': '-0.23', 'bid': '88.071', 'ask': '88.155', 'timestamp': '1671561035', 'create_date': '2022-12-20 15:30:35'}, 'LTC': {'code': 'LTC', 'codein': 'BRL', 'name': 'Litecoin/Real Brasileiro', 'high': '348.46', 'low': '330', 'varBid': '10.22', 'pctChange': '3.08', 'bid': '340.69', 'ask': '341.98', 'timestamp': '1671560835', 'create_date': '2022-12-20 15:27:15'}, 'EUR': {'code': 'EUR', 'codein': 'BRL', 'name': 'Euro/Real Brasileiro', 'high': '5.6568', 'low': '5.5054', 'varBid': '-0.09', 'pctChange': '-1.6', 'bid': '5.5213', 'ask': '5.525', 'timestamp': '1671561030', 'create_date': '2022-12-20 15:30:30'}, 'JPY': {'code': 'JPY', 'codein': 'BRL', 'name': 'Iene Japonês/Real Brasileiro', 'high': '0.04016', 'low': '0.03851', 'varBid': '0.0009', 'pctChange': '2.33', 'bid': '0.03959', 'ask': '0.03961', 'timestamp': '1671561036', 'create_date': '2022-12-20 15:30:36'}, 'CHF': {'code': 'CHF', 'codein': 'BRL', 'name': 'Franco Suíço/Real Brasileiro', 'high': '5.7406', 'low': '5.5915', 'varBid': '-0.0829', 'pctChange': '-1.45', 'bid': '5.6153', 'ask': '5.6166', 'timestamp': '1671561031', 'create_date': '2022-12-20 15:30:31'}, 'AUD': {'code': 'AUD', 'codein': 'BRL', 'name': 'Dólar Australiano/Real Brasileiro', 'high': '3.5694', 'low': '3.448', 'varBid': '-0.0768', 'pctChange': '-2.17', 'bid': '3.4685', 'ask': '3.4695', 'timestamp': '1671561031', 'create_date': '2022-12-20 15:30:31'}, 'CNY': {'code': 'CNY', 'codein': 'BRL', 'name': 'Yuan Chinês/Real Brasileiro', 'high': '0.7639', 'low': '0.7442', 'varBid': '-0.0128', 'pctChange': '-1.68', 'bid': '0.7473', 'ask': '0.7475', 'timestamp': '1671561004', 'create_date': '2022-12-20 15:30:04'}, 'ILS': {'code': 'ILS', 'codein': 'BRL', 'name': 'Novo Shekel Israelense/Real Brasileiro', 'high': '1.5367', 'low': '1.4941', 'varBid': '-0.0367', 'pctChange': '-2.39', 'bid': '1.4986', 'ask': '1.4991', 'timestamp': '1671561007', 'create_date': '2022-12-20 15:30:07'}, 'ETH': {'code': 'ETH', 'codein': 'BRL', 'name': 'Ethereum/Real Brasileiro', 'high': '6.4708', 'low': '6.13558', 'varBid': '105.48', 'pctChange': '1.69', 'bid': '6.34812', 'ask': '6.34812', 'timestamp': '1671560833', 'create_date': '2022-12-20 15:27:13'}, 'XRP': {'code': 'XRP', 'codein': 'BRL', 'name': 'XRP/Real Brasileiro', 'high': '2.05', 'low': '1.77', 'varBid': '0.02', 'pctChange': '1.35', 'bid': '1.82', 'ask': '1.82', 'timestamp': '1671560845', 'create_date': '2022-12-20 15:27:25'}, 'DOGE': {'code': 'DOGE', 'codein': 'BRL', 'name': 'Dogecoin/Real Brasileiro', 'high': '0.398917', 'low': '0.374884', 'varBid': '0.003689', 'pctChange': '0.97', 'bid': '0.385245', 'ask': '0.385245', 'timestamp': '1671561015', 'create_date': '2022-12-20 15:30:15'}}\n"
     ]
    }
   ],
   "source": [
    "# fazendo a requisição\n",
    "cotacoes = requests.get(\"https://economia.awesomeapi.com.br/json/all\")\n",
    "# convertendo json no dicionário\n",
    "cotacoes_dict = cotacoes.json()\n",
    "# Imprimindo resposta\n",
    "print(cotacoes_dict)"
   ]
  },
  {
   "cell_type": "markdown",
   "id": "3eb37fe5",
   "metadata": {},
   "source": [
    "# Exploração dos dados"
   ]
  },
  {
   "cell_type": "markdown",
   "id": "90277961",
   "metadata": {},
   "source": [
    "### Qual a cotação do dolar?"
   ]
  },
  {
   "cell_type": "code",
   "execution_count": 6,
   "id": "70232776",
   "metadata": {},
   "outputs": [
    {
     "name": "stdout",
     "output_type": "stream",
     "text": [
      "Dolar: {'code': 'USD', 'codein': 'BRL', 'name': 'Dólar Americano/Real Brasileiro', 'high': '5.3249', 'low': '5.1769', 'varBid': '-0.0883', 'pctChange': '-1.67', 'bid': '5.2039', 'ask': '5.2055', 'timestamp': '1671561034', 'create_date': '2022-12-20 15:30:34'}\n"
     ]
    }
   ],
   "source": [
    "# extraindo somente valores do USD\n",
    "print(\"Dolar: {}\".format(cotacoes_dict['USD']))"
   ]
  },
  {
   "cell_type": "code",
   "execution_count": 8,
   "id": "eec4d789",
   "metadata": {},
   "outputs": [
    {
     "name": "stdout",
     "output_type": "stream",
     "text": [
      "Cotação Dolar: 5.2039 Reais\n",
      "Valor mais baixo: 5.1769 Reais\n",
      "Valor mais alto: 5.3249 Reais\n"
     ]
    }
   ],
   "source": [
    "print(\"Cotação Dolar: {} Reais\".format(cotacoes_dict['USD'][\"bid\"]))\n",
    "print(\"Valor mais baixo: {} Reais\".format(cotacoes_dict['USD'][\"low\"]))\n",
    "print(\"Valor mais alto: {} Reais\".format(cotacoes_dict['USD'][\"high\"]))"
   ]
  },
  {
   "cell_type": "markdown",
   "id": "fcf78fdd",
   "metadata": {},
   "source": [
    "### Qual a cotação nos últimos 30 dias?"
   ]
  },
  {
   "cell_type": "code",
   "execution_count": 12,
   "id": "68fb05f6",
   "metadata": {},
   "outputs": [
    {
     "name": "stdout",
     "output_type": "stream",
     "text": [
      "[{'code': 'USD', 'codein': 'BRL', 'name': 'Dólar Americano/Real Brasileiro', 'high': '5.3249', 'low': '5.1769', 'varBid': '-0.084', 'pctChange': '-1.59', 'bid': '5.2085', 'ask': '5.2095', 'timestamp': '1671562971', 'create_date': '2022-12-20 16:02:51'}, {'high': '5.2934', 'low': '5.2934', 'varBid': '0.0004', 'pctChange': '0.01', 'bid': '5.293', 'ask': '5.2939', 'timestamp': '1671494376'}, {'high': '5.3317', 'low': '5.263', 'varBid': '0.0015', 'pctChange': '0.03', 'bid': '5.314', 'ask': '5.315', 'timestamp': '1671226102'}, {'high': '5.3317', 'low': '5.263', 'varBid': '0.0015', 'pctChange': '0.03', 'bid': '5.314', 'ask': '5.315', 'timestamp': '1671226093'}, {'high': '5.3471', 'low': '5.2792', 'varBid': '0.0003', 'pctChange': '0', 'bid': '5.313', 'ask': '5.3135', 'timestamp': '1671139126'}, {'high': '5.2792', 'low': '5.2792', 'varBid': '0.0005', 'pctChange': '0.01', 'bid': '5.2787', 'ask': '5.2797', 'timestamp': '1671062380'}, {'high': '5.3348', 'low': '5.243', 'varBid': '0.0003', 'pctChange': '0', 'bid': '5.2938', 'ask': '5.2943', 'timestamp': '1670967002'}, {'high': '5.3231', 'low': '5.3229', 'varBid': '0.0003', 'pctChange': '0', 'bid': '5.3226', 'ask': '5.3231', 'timestamp': '1670889531'}, {'high': '5.2832', 'low': '5.2174', 'varBid': '0.0152', 'pctChange': '0.29', 'bid': '5.24', 'ask': '5.2409', 'timestamp': '1670621402'}, {'high': '5.2832', 'low': '5.2174', 'varBid': '0.0152', 'pctChange': '0.29', 'bid': '5.24', 'ask': '5.2409', 'timestamp': '1670621402'}, {'high': '5.2258', 'low': '5.2258', 'varBid': '0.0005', 'pctChange': '0.01', 'bid': '5.2253', 'ask': '5.2263', 'timestamp': '1670543991'}, {'high': '5.2053', 'low': '5.2053', 'varBid': '0.0005', 'pctChange': '0.01', 'bid': '5.2048', 'ask': '5.2058', 'timestamp': '1670457586'}, {'high': '5.2357', 'low': '5.2357', 'varBid': '0.0005', 'pctChange': '0.01', 'bid': '5.2352', 'ask': '5.2362', 'timestamp': '1670362626'}, {'high': '5.2812', 'low': '5.2811', 'varBid': '0.0003', 'pctChange': '0', 'bid': '5.2809', 'ask': '5.2814', 'timestamp': '1670284761'}, {'high': '5.24', 'low': '5.1642', 'varBid': '0.0346', 'pctChange': '0.67', 'bid': '5.2189', 'ask': '5.2199', 'timestamp': '1670018395'}, {'high': '5.24', 'low': '5.1642', 'varBid': '0.0346', 'pctChange': '0.67', 'bid': '5.2189', 'ask': '5.2199', 'timestamp': '1670018386'}, {'high': '5.1852', 'low': '5.1852', 'varBid': '0.0004', 'pctChange': '0.01', 'bid': '5.1848', 'ask': '5.1857', 'timestamp': '1669932631'}, {'high': '5.1856', 'low': '5.1856', 'varBid': '0.0004', 'pctChange': '0.01', 'bid': '5.1851', 'ask': '5.186', 'timestamp': '1669852731'}, {'high': '5.27', 'low': '5.27', 'varBid': '0.0005', 'pctChange': '0.01', 'bid': '5.2695', 'ask': '5.2705', 'timestamp': '1669766385'}, {'high': '5.4293', 'low': '5.3495', 'varBid': '0.0004', 'pctChange': '0.01', 'bid': '5.3654', 'ask': '5.3663', 'timestamp': '1669672532'}, {'high': '5.4238', 'low': '5.3059', 'varBid': '0.0892', 'pctChange': '1.68', 'bid': '5.4098', 'ask': '5.4103', 'timestamp': '1669413596'}, {'high': '5.4238', 'low': '5.3059', 'varBid': '0.0892', 'pctChange': '1.68', 'bid': '5.4098', 'ask': '5.4103', 'timestamp': '1669413566'}, {'high': '5.3213', 'low': '5.3213', 'varBid': '0.0005', 'pctChange': '0.01', 'bid': '5.3208', 'ask': '5.3218', 'timestamp': '1669334366'}, {'high': '5.3596', 'low': '5.3596', 'varBid': '0.0005', 'pctChange': '0.01', 'bid': '5.3591', 'ask': '5.3601', 'timestamp': '1669247416'}, {'high': '5.3991', 'low': '5.2817', 'varBid': '0.0005', 'pctChange': '0.01', 'bid': '5.3586', 'ask': '5.3596', 'timestamp': '1669152601'}, {'high': '5.3203', 'low': '5.3202', 'varBid': '0.0002', 'pctChange': '0', 'bid': '5.32', 'ask': '5.3205', 'timestamp': '1669075136'}, {'high': '5.3832', 'low': '5.3832', 'varBid': '0.0005', 'pctChange': '0.01', 'bid': '5.3827', 'ask': '5.3837', 'timestamp': '1668988745'}, {'high': '5.4236', 'low': '5.3276', 'varBid': '-0.0399', 'pctChange': '-0.74', 'bid': '5.3827', 'ask': '5.3837', 'timestamp': '1668808767'}, {'high': '5.53', 'low': '5.3874', 'varBid': '0.0238', 'pctChange': '0.44', 'bid': '5.4231', 'ask': '5.4241', 'timestamp': '1668720966'}, {'high': '5.4056', 'low': '5.2891', 'varBid': '0.0005', 'pctChange': '0.01', 'bid': '5.3998', 'ask': '5.4008', 'timestamp': '1668634202'}]\n"
     ]
    }
   ],
   "source": [
    "requisicao = requests.get(\"https://economia.awesomeapi.com.br/json/daily/USD-BRL/30\")\n",
    "ult_30_dict = requisicao.json()\n",
    "print(ult_30_dict)"
   ]
  },
  {
   "cell_type": "markdown",
   "id": "9a4a64b6",
   "metadata": {},
   "source": [
    "### Extraindo somente as cotações (bid)"
   ]
  },
  {
   "cell_type": "code",
   "execution_count": 31,
   "id": "888a69ce",
   "metadata": {},
   "outputs": [
    {
     "name": "stdout",
     "output_type": "stream",
     "text": [
      "Cotação: 5.21\n",
      "Cotação: 5.29\n",
      "Cotação: 5.31\n",
      "Cotação: 5.31\n",
      "Cotação: 5.31\n",
      "Cotação: 5.28\n",
      "Cotação: 5.29\n",
      "Cotação: 5.32\n",
      "Cotação: 5.24\n",
      "Cotação: 5.24\n",
      "Cotação: 5.23\n",
      "Cotação: 5.20\n",
      "Cotação: 5.24\n",
      "Cotação: 5.28\n",
      "Cotação: 5.22\n",
      "Cotação: 5.22\n",
      "Cotação: 5.18\n",
      "Cotação: 5.19\n",
      "Cotação: 5.27\n",
      "Cotação: 5.37\n",
      "Cotação: 5.41\n",
      "Cotação: 5.41\n",
      "Cotação: 5.32\n",
      "Cotação: 5.36\n",
      "Cotação: 5.36\n",
      "Cotação: 5.32\n",
      "Cotação: 5.38\n",
      "Cotação: 5.38\n",
      "Cotação: 5.42\n",
      "Cotação: 5.40\n"
     ]
    }
   ],
   "source": [
    "lista_cotacoes_dolar = [float(item[\"bid\"]) for item in ult_30_dict]\n",
    "\n",
    "for cotacao in lista_cotacoes_dolar:\n",
    "    print(\"Cotação: {:.2f}\".format(cotacao))"
   ]
  },
  {
   "cell_type": "markdown",
   "id": "a4b33f6d",
   "metadata": {},
   "source": [
    "### Plotando gráfico de cotações"
   ]
  },
  {
   "cell_type": "code",
   "execution_count": 26,
   "id": "1b1bd5a9",
   "metadata": {},
   "outputs": [],
   "source": [
    "import matplotlib.pyplot as plt"
   ]
  },
  {
   "cell_type": "code",
   "execution_count": 34,
   "id": "fa433f52",
   "metadata": {},
   "outputs": [
    {
     "data": {
      "image/png": "[encoded data removed]",
      "text/plain": [
       "<Figure size 1080x360 with 1 Axes>"
      ]
     },
     "metadata": {
      "needs_background": "light"
     },
     "output_type": "display_data"
    }
   ],
   "source": [
    "plt.figure(figsize=(15,5))\n",
    "plt.plot(lista_cotacoes_dolar)\n",
    "plt.show()"
   ]
  },
  {
   "cell_type": "code",
   "execution_count": null,
   "id": "e33451e3",
   "metadata": {},
   "outputs": [],
   "source": []
  }
 ],
 "metadata": {
  "kernelspec": {
   "display_name": "Python 3 (ipykernel)",
   "language": "python",
   "name": "python3"
  },
  "language_info": {
   "codemirror_mode": {
    "name": "ipython",
    "version": 3
   },
   "file_extension": ".py",
   "mimetype": "text/x-python",
   "name": "python",
   "nbconvert_exporter": "python",
   "pygments_lexer": "ipython3",
   "version": "3.9.12"
  }
 },
 "nbformat": 4,
 "nbformat_minor": 5
}
